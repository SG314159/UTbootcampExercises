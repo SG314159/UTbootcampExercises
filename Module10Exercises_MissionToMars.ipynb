{
 "cells": [
  {
   "cell_type": "code",
   "execution_count": 1,
   "id": "641a9306",
   "metadata": {},
   "outputs": [],
   "source": [
    "# Starting in Section 10.3.3 - Module 10 exercises\n",
    "# imports\n",
    "from splinter import Browser\n",
    "from bs4 import BeautifulSoup as soup\n",
    "from webdriver_manager.chrome import ChromeDriverManager"
   ]
  },
  {
   "cell_type": "code",
   "execution_count": 2,
   "id": "2cff0b42",
   "metadata": {},
   "outputs": [
    {
     "name": "stderr",
     "output_type": "stream",
     "text": [
      "\n",
      "\n",
      "====== WebDriver manager ======\n",
      "Current google-chrome version is 91.0.4472\n",
      "Get LATEST driver version for 91.0.4472\n",
      "Get LATEST driver version for 91.0.4472\n",
      "Trying to download new driver from https://chromedriver.storage.googleapis.com/91.0.4472.101/chromedriver_win32.zip\n",
      "Driver has been saved in cache [C:\\Users\\sarah\\.wdm\\drivers\\chromedriver\\win32\\91.0.4472.101]\n"
     ]
    }
   ],
   "source": [
    "# set executable path and the URL for scraping\n",
    "# Be sure to note Terms of Use for websites to see if automated browsing is permitted. Automated browsing can overload websites\n",
    "# and some websites prohibit it.\n",
    "executable_path={'executable_path': ChromeDriverManager().install()}\n",
    "browser=Browser('chrome', **executable_path, headless=False)  # creates the automated browser window"
   ]
  },
  {
   "cell_type": "code",
   "execution_count": null,
   "id": "4237fba6",
   "metadata": {},
   "outputs": [],
   "source": [
    "#Visit the mars NASA news site\n",
    "url='https://redplanetscience.com'\n",
    "browser.visit(url)\n",
    "# Search for elmts with tag 'div' and attribute 'list_text'. Inspected website HTML and seeing div class=\"list_text\"\n",
    "# Optional delay for loading the page.\n",
    "browser.is_element_present_by_css('div.list_text', wait_time=1)\n"
   ]
  }
 ],
 "metadata": {
  "kernelspec": {
   "display_name": "Python 3",
   "language": "python",
   "name": "python3"
  },
  "language_info": {
   "codemirror_mode": {
    "name": "ipython",
    "version": 3
   },
   "file_extension": ".py",
   "mimetype": "text/x-python",
   "name": "python",
   "nbconvert_exporter": "python",
   "pygments_lexer": "ipython3",
   "version": "3.7.6"
  }
 },
 "nbformat": 4,
 "nbformat_minor": 5
}
