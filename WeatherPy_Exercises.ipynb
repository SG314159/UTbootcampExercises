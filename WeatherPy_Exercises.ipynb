{
 "cells": [
  {
   "cell_type": "code",
   "execution_count": 1,
   "id": "58c1ecfa",
   "metadata": {},
   "outputs": [],
   "source": [
    "# Exercises for Module 6 - API and Python"
   ]
  },
  {
   "cell_type": "code",
   "execution_count": 2,
   "id": "24939aac",
   "metadata": {},
   "outputs": [],
   "source": [
    "import pandas as pd\n",
    "import matplotlib.pyplot as plt\n",
    "import numpy as np\n",
    "from citipy import citipy\n",
    "import requests\n",
    "\n",
    "from config import weather_api_key"
   ]
  },
  {
   "cell_type": "code",
   "execution_count": 3,
   "id": "47dacb35",
   "metadata": {},
   "outputs": [
    {
     "data": {
      "text/plain": [
       "[(-70.61963308939848, 17.07642445635355),\n",
       " (7.276434942304618, -49.28629218777408),\n",
       " (37.86995246409806, 76.87628240861005),\n",
       " (76.84777105942902, -37.36712048357148),\n",
       " (-38.701494270922275, -40.69755046346762),\n",
       " (43.8681975005135, -32.5815184623668),\n",
       " (-22.70980733257042, -155.47630819698975),\n",
       " (45.29369037286307, 36.244965537109664),\n",
       " (69.19872709519416, 168.74695359784852),\n",
       " (78.44722999326109, 99.45154572242859)]"
      ]
     },
     "execution_count": 3,
     "metadata": {},
     "output_type": "execute_result"
    }
   ],
   "source": [
    "# Create 1500 random lat & long values\n",
    "lats = np.random.uniform(low=-90.000, high=90.000, size=1500)\n",
    "lngs = np.random.uniform(low=-180.000, high = 180.000, size = 1500)\n",
    "lat_lngs = zip(lats,lngs)\n",
    "coordinates = list(lat_lngs)  # Creates a list of 1500 tuples\n",
    "coordinates[:10]"
   ]
  },
  {
   "cell_type": "code",
   "execution_count": 4,
   "id": "61611a03",
   "metadata": {},
   "outputs": [
    {
     "data": {
      "text/plain": [
       "[(-70.61963308939848, 17.07642445635355),\n",
       " (7.276434942304618, -49.28629218777408),\n",
       " (37.86995246409806, 76.87628240861005),\n",
       " (76.84777105942902, -37.36712048357148),\n",
       " (-38.701494270922275, -40.69755046346762)]"
      ]
     },
     "execution_count": 4,
     "metadata": {},
     "output_type": "execute_result"
    }
   ],
   "source": [
    "# Explore citipy function with a small sample\n",
    "mini_sample = coordinates[:5]\n",
    "mini_sample"
   ]
  },
  {
   "cell_type": "code",
   "execution_count": 5,
   "id": "02a6b2f2",
   "metadata": {},
   "outputs": [
    {
     "name": "stdout",
     "output_type": "stream",
     "text": [
      "bredasdorp za\n",
      "cayenne gf\n",
      "shache cn\n",
      "tasiilaq gl\n",
      "cidreira br\n"
     ]
    }
   ],
   "source": [
    "for coordinate in mini_sample:\n",
    "    print(citipy.nearest_city(coordinate[0], coordinate[1]).city_name,\n",
    "          citipy.nearest_city(coordinate[0], coordinate[1]).country_code)\n"
   ]
  },
  {
   "cell_type": "code",
   "execution_count": 6,
   "id": "12c7a9b4",
   "metadata": {},
   "outputs": [
    {
     "name": "stdout",
     "output_type": "stream",
     "text": [
      "597\n"
     ]
    }
   ],
   "source": [
    "# Create list for holding cities for the entire example\n",
    "cities = []\n",
    "# Find nearest city and add to cities list if new.\n",
    "for coordinate in coordinates:\n",
    "    city = citipy.nearest_city(coordinate[0],coordinate[1]).city_name\n",
    "    if city not in cities:\n",
    "        cities.append(city)\n",
    "\n",
    "print(len(cities))"
   ]
  },
  {
   "cell_type": "code",
   "execution_count": 16,
   "id": "e4c8070a",
   "metadata": {},
   "outputs": [],
   "source": [
    "# Starting with the Open Weather API stuff (Section 6.2.3)\n",
    "# Starting URL for Weather Map API Call.\n",
    "\n",
    "url = \"http://api.openweathermap.org/data/2.5/weather?\"\n",
    "city_name = \"Boston\"\n",
    "query_url = url + \"q=\"+city_name + \"&units=Imperial&APPID=\" + weather_api_key\n",
    "\n"
   ]
  },
  {
   "cell_type": "code",
   "execution_count": 17,
   "id": "76ba8054",
   "metadata": {},
   "outputs": [],
   "source": [
    "city_weather = requests.get(query_url).json()"
   ]
  },
  {
   "cell_type": "code",
   "execution_count": 18,
   "id": "9d09f144",
   "metadata": {},
   "outputs": [
    {
     "data": {
      "text/plain": [
       "dict_keys(['coord', 'weather', 'base', 'main', 'visibility', 'wind', 'rain', 'clouds', 'dt', 'sys', 'timezone', 'id', 'name', 'cod'])"
      ]
     },
     "execution_count": 18,
     "metadata": {},
     "output_type": "execute_result"
    }
   ],
   "source": [
    "city_weather.keys()"
   ]
  },
  {
   "cell_type": "code",
   "execution_count": 20,
   "id": "f7323048",
   "metadata": {},
   "outputs": [
    {
     "data": {
      "text/plain": [
       "{'coord': {'lon': -71.0598, 'lat': 42.3584},\n",
       " 'weather': [{'id': 501,\n",
       "   'main': 'Rain',\n",
       "   'description': 'moderate rain',\n",
       "   'icon': '10d'}],\n",
       " 'base': 'stations',\n",
       " 'main': {'temp': 46.67,\n",
       "  'feels_like': 43.18,\n",
       "  'temp_min': 44.29,\n",
       "  'temp_max': 48.58,\n",
       "  'pressure': 1020,\n",
       "  'humidity': 94},\n",
       " 'visibility': 10000,\n",
       " 'wind': {'speed': 7, 'deg': 98, 'gust': 20},\n",
       " 'rain': {'1h': 1.78},\n",
       " 'clouds': {'all': 100},\n",
       " 'dt': 1622306310,\n",
       " 'sys': {'type': 2,\n",
       "  'id': 2013408,\n",
       "  'country': 'US',\n",
       "  'sunrise': 1622279498,\n",
       "  'sunset': 1622333525},\n",
       " 'timezone': -14400,\n",
       " 'id': 4930956,\n",
       " 'name': 'Boston',\n",
       " 'cod': 200}"
      ]
     },
     "execution_count": 20,
     "metadata": {},
     "output_type": "execute_result"
    }
   ],
   "source": [
    "city_weather"
   ]
  },
  {
   "cell_type": "code",
   "execution_count": 21,
   "id": "9427b359",
   "metadata": {},
   "outputs": [
    {
     "data": {
      "text/plain": [
       "<Response [200]>"
      ]
     },
     "execution_count": 21,
     "metadata": {},
     "output_type": "execute_result"
    }
   ],
   "source": [
    "other_call = requests.get(query_url)  # response of 200 indicates the API call got a valid response\n",
    "other_call"
   ]
  },
  {
   "cell_type": "code",
   "execution_count": 22,
   "id": "49748757",
   "metadata": {},
   "outputs": [
    {
     "data": {
      "text/plain": [
       "dict_keys(['coord', 'weather', 'base', 'main', 'visibility', 'wind', 'rain', 'clouds', 'dt', 'sys', 'timezone', 'id', 'name', 'cod'])"
      ]
     },
     "execution_count": 22,
     "metadata": {},
     "output_type": "execute_result"
    }
   ],
   "source": [
    "# practice retrieving pieces of the JSON data\n",
    "city_weather.keys()"
   ]
  },
  {
   "cell_type": "code",
   "execution_count": 23,
   "id": "e444ab26",
   "metadata": {},
   "outputs": [
    {
     "data": {
      "text/plain": [
       "{'type': 2,\n",
       " 'id': 2013408,\n",
       " 'country': 'US',\n",
       " 'sunrise': 1622279498,\n",
       " 'sunset': 1622333525}"
      ]
     },
     "execution_count": 23,
     "metadata": {},
     "output_type": "execute_result"
    }
   ],
   "source": [
    "city_weather['sys']"
   ]
  },
  {
   "cell_type": "code",
   "execution_count": 24,
   "id": "7cc5d166",
   "metadata": {},
   "outputs": [
    {
     "data": {
      "text/plain": [
       "'US'"
      ]
     },
     "execution_count": 24,
     "metadata": {},
     "output_type": "execute_result"
    }
   ],
   "source": [
    "city_weather['sys']['country']"
   ]
  },
  {
   "cell_type": "code",
   "execution_count": 25,
   "id": "578a88b4",
   "metadata": {},
   "outputs": [
    {
     "data": {
      "text/plain": [
       "{'lon': -71.0598, 'lat': 42.3584}"
      ]
     },
     "execution_count": 25,
     "metadata": {},
     "output_type": "execute_result"
    }
   ],
   "source": [
    "city_weather['coord']"
   ]
  },
  {
   "cell_type": "code",
   "execution_count": 26,
   "id": "cb79cf7b",
   "metadata": {},
   "outputs": [
    {
     "data": {
      "text/plain": [
       "42.3584"
      ]
     },
     "execution_count": 26,
     "metadata": {},
     "output_type": "execute_result"
    }
   ],
   "source": [
    "city_weather['coord']['lat']"
   ]
  },
  {
   "cell_type": "code",
   "execution_count": 28,
   "id": "32977b6e",
   "metadata": {},
   "outputs": [
    {
     "data": {
      "text/plain": [
       "{'temp': 46.67,\n",
       " 'feels_like': 43.18,\n",
       " 'temp_min': 44.29,\n",
       " 'temp_max': 48.58,\n",
       " 'pressure': 1020,\n",
       " 'humidity': 94}"
      ]
     },
     "execution_count": 28,
     "metadata": {},
     "output_type": "execute_result"
    }
   ],
   "source": [
    "city_weather['main']"
   ]
  },
  {
   "cell_type": "code",
   "execution_count": 29,
   "id": "6a213602",
   "metadata": {},
   "outputs": [
    {
     "data": {
      "text/plain": [
       "48.58"
      ]
     },
     "execution_count": 29,
     "metadata": {},
     "output_type": "execute_result"
    }
   ],
   "source": [
    "city_weather['main']['temp_max']"
   ]
  },
  {
   "cell_type": "code",
   "execution_count": 30,
   "id": "d2f9791a",
   "metadata": {},
   "outputs": [
    {
     "name": "stdout",
     "output_type": "stream",
     "text": [
      "42.3584 -71.0598 48.58 94 100 7\n"
     ]
    }
   ],
   "source": [
    "lat = city_weather[\"coord\"][\"lat\"]\n",
    "lng = city_weather[\"coord\"][\"lon\"]\n",
    "max_temp = city_weather[\"main\"][\"temp_max\"]\n",
    "humidity = city_weather[\"main\"][\"humidity\"]\n",
    "clouds = city_weather[\"clouds\"][\"all\"]\n",
    "wind = city_weather[\"wind\"][\"speed\"]\n",
    "print(lat, lng, max_temp, humidity, clouds, wind)"
   ]
  },
  {
   "cell_type": "code",
   "execution_count": 31,
   "id": "a4252af8",
   "metadata": {},
   "outputs": [],
   "source": [
    "# Convert UTC timestamp\n",
    "from datetime import datetime\n"
   ]
  },
  {
   "cell_type": "code",
   "execution_count": 33,
   "id": "0e663ae7",
   "metadata": {},
   "outputs": [
    {
     "data": {
      "text/plain": [
       "1622306310"
      ]
     },
     "execution_count": 33,
     "metadata": {},
     "output_type": "execute_result"
    }
   ],
   "source": [
    "date = city_weather['dt']\n",
    "date"
   ]
  },
  {
   "cell_type": "code",
   "execution_count": 35,
   "id": "ec5f1273",
   "metadata": {},
   "outputs": [
    {
     "data": {
      "text/plain": [
       "'2021-05-29 16:38:30'"
      ]
     },
     "execution_count": 35,
     "metadata": {},
     "output_type": "execute_result"
    }
   ],
   "source": [
    "datetime.utcfromtimestamp(date).strftime('%Y-%m-%d %H:%M:%S')"
   ]
  },
  {
   "cell_type": "code",
   "execution_count": null,
   "id": "2d8f5781",
   "metadata": {},
   "outputs": [],
   "source": [
    "# Section 6.2.6 - Exercises; continuing with API call for 500 cities\n",
    "city_data = []\n",
    "print(\"----------------\")\n",
    "print(\"beginning data retrieval\")\n",
    "print(\"----------------\")\n",
    "record_count = 1\n",
    "set_count = 1\n",
    "\n",
    "for i, city in enumerate(cities):\n",
    "    # Group sets of 50 for logging purposes\n",
    "    if (i % 50 == 0 and i >= 50):\n",
    "        set_count += 1\n",
    "        record_count = 1\n",
    "    city_url = url + \"&q\" + city.replace(\" \",\"+\")  # replace blanks with + for string\n"
   ]
  },
  {
   "cell_type": "code",
   "execution_count": null,
   "id": "e8e920d7",
   "metadata": {},
   "outputs": [],
   "source": []
  },
  {
   "cell_type": "code",
   "execution_count": null,
   "id": "df6e3319",
   "metadata": {},
   "outputs": [],
   "source": []
  },
  {
   "cell_type": "code",
   "execution_count": null,
   "id": "1b87622c",
   "metadata": {},
   "outputs": [],
   "source": []
  },
  {
   "cell_type": "code",
   "execution_count": null,
   "id": "6d0fe34f",
   "metadata": {},
   "outputs": [],
   "source": []
  },
  {
   "cell_type": "code",
   "execution_count": null,
   "id": "e67a88e2",
   "metadata": {},
   "outputs": [],
   "source": []
  },
  {
   "cell_type": "code",
   "execution_count": null,
   "id": "1f763f19",
   "metadata": {},
   "outputs": [],
   "source": []
  },
  {
   "cell_type": "code",
   "execution_count": null,
   "id": "3cbfb91f",
   "metadata": {},
   "outputs": [],
   "source": []
  },
  {
   "cell_type": "code",
   "execution_count": null,
   "id": "bbf748a6",
   "metadata": {},
   "outputs": [],
   "source": []
  },
  {
   "cell_type": "code",
   "execution_count": null,
   "id": "0dffab6b",
   "metadata": {},
   "outputs": [],
   "source": []
  },
  {
   "cell_type": "code",
   "execution_count": null,
   "id": "47c0b7ab",
   "metadata": {},
   "outputs": [],
   "source": []
  },
  {
   "cell_type": "code",
   "execution_count": null,
   "id": "413647e2",
   "metadata": {},
   "outputs": [],
   "source": []
  },
  {
   "cell_type": "code",
   "execution_count": null,
   "id": "682ce521",
   "metadata": {},
   "outputs": [],
   "source": []
  },
  {
   "cell_type": "code",
   "execution_count": null,
   "id": "7c7012a9",
   "metadata": {},
   "outputs": [],
   "source": []
  },
  {
   "cell_type": "code",
   "execution_count": null,
   "id": "ac347fa4",
   "metadata": {},
   "outputs": [],
   "source": []
  },
  {
   "cell_type": "code",
   "execution_count": null,
   "id": "4125758f",
   "metadata": {},
   "outputs": [],
   "source": []
  },
  {
   "cell_type": "code",
   "execution_count": null,
   "id": "62fa7508",
   "metadata": {},
   "outputs": [],
   "source": []
  }
 ],
 "metadata": {
  "kernelspec": {
   "display_name": "Python 3",
   "language": "python",
   "name": "python3"
  },
  "language_info": {
   "codemirror_mode": {
    "name": "ipython",
    "version": 3
   },
   "file_extension": ".py",
   "mimetype": "text/x-python",
   "name": "python",
   "nbconvert_exporter": "python",
   "pygments_lexer": "ipython3",
   "version": "3.7.6"
  }
 },
 "nbformat": 4,
 "nbformat_minor": 5
}
