{
 "cells": [
  {
   "cell_type": "code",
   "execution_count": 14,
   "id": "4aebcbb9",
   "metadata": {},
   "outputs": [],
   "source": [
    "# practice with random numbers for module 6"
   ]
  },
  {
   "cell_type": "code",
   "execution_count": 15,
   "id": "168678fc",
   "metadata": {},
   "outputs": [],
   "source": [
    "import random\n",
    "import timeit\n",
    "# https://docs.python.org/3/library/random.html"
   ]
  },
  {
   "cell_type": "code",
   "execution_count": 16,
   "id": "680434ee",
   "metadata": {},
   "outputs": [
    {
     "data": {
      "text/plain": [
       "63"
      ]
     },
     "execution_count": 16,
     "metadata": {},
     "output_type": "execute_result"
    }
   ],
   "source": [
    "# random integer on interval [-90, 90]\n",
    "random.randint(-90,90)"
   ]
  },
  {
   "cell_type": "code",
   "execution_count": 17,
   "id": "d812fee3",
   "metadata": {},
   "outputs": [
    {
     "data": {
      "text/plain": [
       "0.8799198297527089"
      ]
     },
     "execution_count": 17,
     "metadata": {},
     "output_type": "execute_result"
    }
   ],
   "source": [
    "# random float [0.0, 1.0)\n",
    "random.random()"
   ]
  },
  {
   "cell_type": "code",
   "execution_count": 18,
   "id": "27025a59",
   "metadata": {},
   "outputs": [
    {
     "data": {
      "text/plain": [
       "69.08725711357094"
      ]
     },
     "execution_count": 18,
     "metadata": {},
     "output_type": "execute_result"
    }
   ],
   "source": [
    "# combine above functions per module exercise\n",
    "random_latitude = random.randint(-90,89) + random.random()\n",
    "random_latitude"
   ]
  },
  {
   "cell_type": "code",
   "execution_count": 22,
   "id": "10bc2a24",
   "metadata": {},
   "outputs": [
    {
     "name": "stdout",
     "output_type": "stream",
     "text": [
      "68.4 µs ± 6.76 µs per loop (mean ± std. dev. of 7 runs, 10000 loops each)\n"
     ]
    }
   ],
   "source": [
    "def getLats():\n",
    "    latitudes = []\n",
    "    for i in range(50):\n",
    "        lat = random.randint(-90,89) + random.random()\n",
    "        latitudes.append(lat)\n",
    "    return latitudes\n",
    "\n",
    "\n",
    "%timeit getLats()\n"
   ]
  },
  {
   "cell_type": "code",
   "execution_count": 9,
   "id": "fe14176b",
   "metadata": {},
   "outputs": [
    {
     "data": {
      "text/plain": [
       "72"
      ]
     },
     "execution_count": 9,
     "metadata": {},
     "output_type": "execute_result"
    }
   ],
   "source": [
    "# randrange: Return a randomly selected integer from range(start, stop, step).\n",
    "random.randrange(-90, 90, step=1)"
   ]
  },
  {
   "cell_type": "code",
   "execution_count": 11,
   "id": "4db64438",
   "metadata": {},
   "outputs": [
    {
     "data": {
      "text/plain": [
       "-47.134224929726976"
      ]
     },
     "execution_count": 11,
     "metadata": {},
     "output_type": "execute_result"
    }
   ],
   "source": [
    "# random.uniform return float on [-90,90] interval. Will not generate an integer.\n",
    "# This looks to be the best option for what we need.\n",
    "random.uniform(-90, 90)"
   ]
  },
  {
   "cell_type": "code",
   "execution_count": 12,
   "id": "077f1f3f",
   "metadata": {},
   "outputs": [
    {
     "data": {
      "text/plain": [
       "-40.242743431110476"
      ]
     },
     "execution_count": 12,
     "metadata": {},
     "output_type": "execute_result"
    }
   ],
   "source": [
    "import numpy as np\n",
    "np.random.uniform(-90.000, 90.000)"
   ]
  },
  {
   "cell_type": "code",
   "execution_count": 23,
   "id": "6385f14b",
   "metadata": {},
   "outputs": [
    {
     "name": "stdout",
     "output_type": "stream",
     "text": [
      "3.04 µs ± 199 ns per loop (mean ± std. dev. of 7 runs, 100000 loops each)\n"
     ]
    }
   ],
   "source": [
    "# can generate an entire list of random numbers using 'size' parameter. Here 50 float numbers.\n",
    "%timeit np.random.uniform(-90.000, 90.000, size=50)"
   ]
  },
  {
   "cell_type": "code",
   "execution_count": null,
   "id": "b73d5579",
   "metadata": {},
   "outputs": [],
   "source": []
  }
 ],
 "metadata": {
  "kernelspec": {
   "display_name": "Python 3",
   "language": "python",
   "name": "python3"
  },
  "language_info": {
   "codemirror_mode": {
    "name": "ipython",
    "version": 3
   },
   "file_extension": ".py",
   "mimetype": "text/x-python",
   "name": "python",
   "nbconvert_exporter": "python",
   "pygments_lexer": "ipython3",
   "version": "3.7.6"
  }
 },
 "nbformat": 4,
 "nbformat_minor": 5
}
